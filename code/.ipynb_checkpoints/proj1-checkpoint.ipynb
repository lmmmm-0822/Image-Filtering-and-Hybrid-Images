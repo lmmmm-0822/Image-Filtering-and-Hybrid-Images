{
 "cells": [
  {
   "cell_type": "markdown",
   "metadata": {},
   "source": [
    "# Project I. Image Filtering and Hybrid Images\n",
    "1. Test my_imfilter\n",
    "2. Generator blured image\n",
    "3. Generate hybrid image\n"
   ]
  },
  {
   "cell_type": "code",
   "execution_count": 1,
   "metadata": {},
   "outputs": [],
   "source": [
    "import os\n",
    "import skimage\n",
    "from skimage.transform import rescale\n",
    "import numpy as np\n",
    "from numpy import pi, exp, sqrt\n",
    "import matplotlib\n",
    "import matplotlib.pyplot as plt\n",
    "from student import vis_hybrid_image, load_image, save_image, my_imfilter, gen_hybrid_image"
   ]
  },
  {
   "cell_type": "markdown",
   "metadata": {},
   "source": [
    "Project I part 1 - Tests on my_imfilter function"
   ]
  },
  {
   "cell_type": "code",
   "execution_count": 2,
   "metadata": {},
   "outputs": [
    {
     "name": "stdout",
     "output_type": "stream",
     "text": [
      "(361, 410, 3)\n",
      "(253, 287, 3)\n"
     ]
    }
   ],
   "source": [
    "resultsDir = '..' + os.sep + 'results'\n",
    "if not os.path.exists( resultsDir ):\n",
    "    os.mkdir( resultsDir )\n",
    "\n",
    "test_image = load_image('../data/cat.bmp')\n",
    "print(test_image.shape)\n",
    "test_image = rescale(test_image, [0.7, 0.7, 1], mode='reflect')\n",
    "print(test_image.shape)"
   ]
  },
  {
   "cell_type": "markdown",
   "metadata": {},
   "source": [
    "Identity filter.\n",
    "This filter should do nothing regardless of the padding method you use."
   ]
  },
  {
   "cell_type": "code",
   "execution_count": 3,
   "metadata": {},
   "outputs": [
    {
     "ename": "AssertionError",
     "evalue": "",
     "output_type": "error",
     "traceback": [
      "\u001b[1;31m---------------------------------------------------------------------------\u001b[0m",
      "\u001b[1;31mAssertionError\u001b[0m                            Traceback (most recent call last)",
      "Cell \u001b[1;32mIn[3], line 2\u001b[0m\n\u001b[0;32m      1\u001b[0m identity_filter \u001b[38;5;241m=\u001b[39m np\u001b[38;5;241m.\u001b[39masarray([[\u001b[38;5;241m0\u001b[39m, \u001b[38;5;241m0\u001b[39m, \u001b[38;5;241m0\u001b[39m], [\u001b[38;5;241m0\u001b[39m, \u001b[38;5;241m1\u001b[39m, \u001b[38;5;241m0\u001b[39m], [\u001b[38;5;241m0\u001b[39m, \u001b[38;5;241m0\u001b[39m, \u001b[38;5;241m0\u001b[39m]], dtype\u001b[38;5;241m=\u001b[39mnp\u001b[38;5;241m.\u001b[39mfloat32)\n\u001b[1;32m----> 2\u001b[0m identity_image \u001b[38;5;241m=\u001b[39m \u001b[43mmy_imfilter\u001b[49m\u001b[43m(\u001b[49m\u001b[43mtest_image\u001b[49m\u001b[43m,\u001b[49m\u001b[43m \u001b[49m\u001b[43midentity_filter\u001b[49m\u001b[43m)\u001b[49m\n\u001b[0;32m      3\u001b[0m plt\u001b[38;5;241m.\u001b[39mimshow(identity_image)\n\u001b[0;32m      4\u001b[0m done \u001b[38;5;241m=\u001b[39m save_image(\u001b[38;5;124m'\u001b[39m\u001b[38;5;124m../results/identity_image.jpg\u001b[39m\u001b[38;5;124m'\u001b[39m, identity_image)\n",
      "File \u001b[1;32mD:\\Project\\计算机视觉\\proj1：Image Filtering and Hybrid Images\\code\\student.py:26\u001b[0m, in \u001b[0;36mmy_imfilter\u001b[1;34m(image, filter)\u001b[0m\n\u001b[0;32m     22\u001b[0m \u001b[38;5;66;03m#####################################################################################################\u001b[39;00m\n\u001b[0;32m     23\u001b[0m \u001b[38;5;66;03m#                                            Your Code                                              #\u001b[39;00m\n\u001b[0;32m     24\u001b[0m \u001b[38;5;66;03m#####################################################################################################\u001b[39;00m\n\u001b[0;32m     25\u001b[0m   filtered_image \u001b[38;5;241m=\u001b[39m \u001b[38;5;28;01mNone\u001b[39;00m\n\u001b[1;32m---> 26\u001b[0m   \u001b[38;5;28;01massert\u001b[39;00m filtered_image \u001b[38;5;241m!=\u001b[39m \u001b[38;5;28;01mNone\u001b[39;00m\n\u001b[0;32m     27\u001b[0m \u001b[38;5;66;03m#####################################################################################################\u001b[39;00m\n\u001b[0;32m     28\u001b[0m \u001b[38;5;66;03m#                                               End                                                 #\u001b[39;00m\n\u001b[0;32m     29\u001b[0m \u001b[38;5;66;03m#####################################################################################################\u001b[39;00m\n\u001b[0;32m     31\u001b[0m   \u001b[38;5;28;01mreturn\u001b[39;00m filtered_image\n",
      "\u001b[1;31mAssertionError\u001b[0m: "
     ]
    }
   ],
   "source": [
    "identity_filter = np.asarray([[0, 0, 0], [0, 1, 0], [0, 0, 0]], dtype=np.float32)\n",
    "identity_image = my_imfilter(test_image, identity_filter)\n",
    "plt.imshow(identity_image)\n",
    "done = save_image('../results/identity_image.jpg', identity_image)"
   ]
  },
  {
   "cell_type": "markdown",
   "metadata": {},
   "source": [
    "Small blur with a box filter.\n",
    "This filter should remove some high frequencies."
   ]
  },
  {
   "cell_type": "code",
   "execution_count": 4,
   "metadata": {},
   "outputs": [
    {
     "ename": "AssertionError",
     "evalue": "",
     "output_type": "error",
     "traceback": [
      "\u001b[1;31m---------------------------------------------------------------------------\u001b[0m",
      "\u001b[1;31mAssertionError\u001b[0m                            Traceback (most recent call last)",
      "Cell \u001b[1;32mIn[4], line 3\u001b[0m\n\u001b[0;32m      1\u001b[0m blur_filter \u001b[38;5;241m=\u001b[39m np\u001b[38;5;241m.\u001b[39mones((\u001b[38;5;241m3\u001b[39m, \u001b[38;5;241m3\u001b[39m), dtype\u001b[38;5;241m=\u001b[39mnp\u001b[38;5;241m.\u001b[39mfloat32)\n\u001b[0;32m      2\u001b[0m blur_filter \u001b[38;5;241m/\u001b[39m\u001b[38;5;241m=\u001b[39m np\u001b[38;5;241m.\u001b[39msum(blur_filter, dtype\u001b[38;5;241m=\u001b[39mnp\u001b[38;5;241m.\u001b[39mfloat32)  \u001b[38;5;66;03m# making the filter sum to 1\u001b[39;00m\n\u001b[1;32m----> 3\u001b[0m blur_image \u001b[38;5;241m=\u001b[39m \u001b[43mmy_imfilter\u001b[49m\u001b[43m(\u001b[49m\u001b[43mtest_image\u001b[49m\u001b[43m,\u001b[49m\u001b[43m \u001b[49m\u001b[43mblur_filter\u001b[49m\u001b[43m)\u001b[49m\n\u001b[0;32m      4\u001b[0m plt\u001b[38;5;241m.\u001b[39mimshow(blur_image)\n\u001b[0;32m      5\u001b[0m done \u001b[38;5;241m=\u001b[39m save_image(resultsDir \u001b[38;5;241m+\u001b[39m os\u001b[38;5;241m.\u001b[39msep \u001b[38;5;241m+\u001b[39m \u001b[38;5;124m'\u001b[39m\u001b[38;5;124mblur_image.jpg\u001b[39m\u001b[38;5;124m'\u001b[39m, blur_image)\n",
      "File \u001b[1;32mD:\\Project\\计算机视觉\\proj1：Image Filtering and Hybrid Images\\code\\student.py:26\u001b[0m, in \u001b[0;36mmy_imfilter\u001b[1;34m(image, filter)\u001b[0m\n\u001b[0;32m     22\u001b[0m \u001b[38;5;66;03m#####################################################################################################\u001b[39;00m\n\u001b[0;32m     23\u001b[0m \u001b[38;5;66;03m#                                            Your Code                                              #\u001b[39;00m\n\u001b[0;32m     24\u001b[0m \u001b[38;5;66;03m#####################################################################################################\u001b[39;00m\n\u001b[0;32m     25\u001b[0m   filtered_image \u001b[38;5;241m=\u001b[39m \u001b[38;5;28;01mNone\u001b[39;00m\n\u001b[1;32m---> 26\u001b[0m   \u001b[38;5;28;01massert\u001b[39;00m filtered_image \u001b[38;5;241m!=\u001b[39m \u001b[38;5;28;01mNone\u001b[39;00m\n\u001b[0;32m     27\u001b[0m \u001b[38;5;66;03m#####################################################################################################\u001b[39;00m\n\u001b[0;32m     28\u001b[0m \u001b[38;5;66;03m#                                               End                                                 #\u001b[39;00m\n\u001b[0;32m     29\u001b[0m \u001b[38;5;66;03m#####################################################################################################\u001b[39;00m\n\u001b[0;32m     31\u001b[0m   \u001b[38;5;28;01mreturn\u001b[39;00m filtered_image\n",
      "\u001b[1;31mAssertionError\u001b[0m: "
     ]
    }
   ],
   "source": [
    "blur_filter = np.ones((3, 3), dtype=np.float32)\n",
    "blur_filter /= np.sum(blur_filter, dtype=np.float32)  # making the filter sum to 1\n",
    "blur_image = my_imfilter(test_image, blur_filter)\n",
    "plt.imshow(blur_image)\n",
    "done = save_image(resultsDir + os.sep + 'blur_image.jpg', blur_image)"
   ]
  },
  {
   "cell_type": "markdown",
   "metadata": {},
   "source": [
    "Large blur.\n",
    "This blur would be slow to do directly, so we instead use the fact that Gaussian blurs are separable and blur sequentially in each direction."
   ]
  },
  {
   "cell_type": "code",
   "execution_count": null,
   "metadata": {},
   "outputs": [],
   "source": [
    "# generate a 1x(2k+1) gaussian kernel with mean=0 and sigma = s, see https://stackoverflow.com/questions/17190649/how-to-obtain-a-gaussian-filter-in-python\n",
    "s, k = 10, 12\n",
    "large_1d_blur_filter = np.asarray([exp(-z*z/(2*s*s))/sqrt(2*pi*s*s) for z in range(-k,k+1)], dtype=np.float32) \n",
    "large_1d_blur_filter = large_1d_blur_filter.reshape(-1,1)\n",
    "large_blur_image = my_imfilter(test_image, large_1d_blur_filter)\n",
    "# notice the T operator which transposes the filter\n",
    "large_blur_image = my_imfilter(large_blur_image, large_1d_blur_filter.T)\n",
    "plt.imshow(large_blur_image)\n",
    "done = save_image(resultsDir + os.sep + 'large_blur_image.jpg', large_blur_image)"
   ]
  },
  {
   "cell_type": "markdown",
   "metadata": {},
   "source": [
    "Oriented filter (Sobel operator)"
   ]
  },
  {
   "cell_type": "code",
   "execution_count": null,
   "metadata": {},
   "outputs": [],
   "source": [
    "sobel_filter = np.asarray([[-1, 0, 1], [-2, 0, 2], [-1, 0, 1]], dtype=np.float32)  # should respond to horizontal gradients\n",
    "sobel_image = my_imfilter(test_image, sobel_filter)\n",
    "\n",
    "# 0.5 added because the output image is centered around zero otherwise and mostly black\n",
    "sobel_image = np.clip(sobel_image+0.5, 0.0, 1.0)\n",
    "plt.imshow(sobel_image)\n",
    "done = save_image(resultsDir + os.sep + 'sobel_image.jpg', sobel_image)"
   ]
  },
  {
   "cell_type": "markdown",
   "metadata": {},
   "source": [
    "High pass filter (discrete Laplacian)"
   ]
  },
  {
   "cell_type": "code",
   "execution_count": null,
   "metadata": {},
   "outputs": [],
   "source": [
    "laplacian_filter = np.asarray([[0, 1, 0], [1, -4, 1], [0, 1, 0]], dtype=np.float32)\n",
    "laplacian_image = my_imfilter(test_image, laplacian_filter)\n",
    "\n",
    "# added because the output image is centered around zero otherwise and mostly black\n",
    "laplacian_image = np.clip(laplacian_image+0.5, 0.0, 1.0)\n",
    "plt.figure(); plt.imshow(laplacian_image)\n",
    "done = save_image(resultsDir + os.sep + 'laplacian_image.jpg', laplacian_image)\n",
    "\n",
    "# High pass \"filter\" alternative\n",
    "high_pass_image = test_image - blur_image\n",
    "high_pass_image = np.clip(high_pass_image+0.5, 0.0, 1.0)\n",
    "plt.figure(); plt.imshow(high_pass_image)\n",
    "done = save_image(resultsDir + os.sep + 'high_pass_image.jpg', high_pass_image)"
   ]
  },
  {
   "cell_type": "markdown",
   "metadata": {},
   "source": [
    "Project I part 2 - Generate Hybrid Image"
   ]
  },
  {
   "cell_type": "code",
   "execution_count": null,
   "metadata": {},
   "outputs": [],
   "source": [
    "image1 = load_image('../data/dog.bmp')\n",
    "image2 = load_image('../data/cat.bmp')\n",
    "\n",
    "# display the dog and cat images\n",
    "plt.figure(figsize=(3,3)) \n",
    "plt.imshow((image1*255).astype(np.uint8))\n",
    "plt.figure(figsize=(3,3))\n",
    "plt.imshow((image2*255).astype(np.uint8))\n",
    "cutoff_frequency = 7\n",
    "low_frequencies, high_frequencies, hybrid_image = gen_hybrid_image(image1, image2, cutoff_frequency)\n",
    "## Visualize and save outputs ##\n",
    "plt.figure()\n",
    "plt.imshow((low_frequencies*255).astype(np.uint8))\n",
    "plt.figure()\n",
    "plt.imshow(((high_frequencies+0.5)*255).astype(np.uint8))\n",
    "vis = vis_hybrid_image(hybrid_image)\n",
    "plt.figure(figsize=(20, 20))\n",
    "plt.imshow(vis)\n",
    "low_frequencies = np.clip(low_frequencies, 0.0, 1.0)\n",
    "high_frequencies = np.clip(high_frequencies, 0.0, 1.0)\n",
    "hybrid_image = np.clip(hybrid_image, 0.0, 1.0)\n",
    "vis = np.clip(vis, 0.0, 1.0)\n",
    "save_image('../results/low_frequencies.jpg', low_frequencies)\n",
    "save_image('../results/high_frequencies.jpg', high_frequencies)\n",
    "save_image('../results/hybrid_image.jpg', hybrid_image)\n",
    "save_image('../results/hybrid_image_scales.jpg', vis)"
   ]
  },
  {
   "cell_type": "code",
   "execution_count": null,
   "metadata": {},
   "outputs": [],
   "source": []
  }
 ],
 "metadata": {
  "kernelspec": {
   "display_name": "Python 3 (ipykernel)",
   "language": "python",
   "name": "python3"
  },
  "language_info": {
   "codemirror_mode": {
    "name": "ipython",
    "version": 3
   },
   "file_extension": ".py",
   "mimetype": "text/x-python",
   "name": "python",
   "nbconvert_exporter": "python",
   "pygments_lexer": "ipython3",
   "version": "3.10.9"
  }
 },
 "nbformat": 4,
 "nbformat_minor": 2
}
